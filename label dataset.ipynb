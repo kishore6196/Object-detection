{
 "cells": [
  {
   "cell_type": "code",
   "execution_count": 4,
   "id": "c3f0268b",
   "metadata": {},
   "outputs": [],
   "source": [
    "import os\n",
    "import random\n",
    "import shutil"
   ]
  },
  {
   "cell_type": "code",
   "execution_count": 5,
   "id": "52b8ec75",
   "metadata": {},
   "outputs": [],
   "source": [
    "class LabelUtils:\n",
    "\n",
    "    def create_shuffled_images_folder(self):\n",
    "        if not os.path.exists(\"shuffled_images\"):\n",
    "            os.mkdir(\"shuffled_images\")\n",
    "\n",
    "        image_files = [f for f in os.listdir(\"images\") if f.endswith(\".jpg\")]\n",
    "        random.shuffle(image_files)\n",
    "\n",
    "        for img in image_files:\n",
    "            os.rename(f\"images/{img}\", f\"shuffled_images/img_{len(os.listdir('shuffled_images'))}.jpg\")\n",
    "\n",
    "    def create_labeled_images_zip_file(self):\n",
    "        if not os.path.exists(\"obj\"):\n",
    "            os.mkdir(\"obj\")\n",
    "\n",
    "        file_prefixes = [f.split('.')[0] for f in os.listdir(\"shuffled_images\") if f.endswith(\".txt\")]\n",
    "\n",
    "        for prefix in file_prefixes:\n",
    "            os.rename(f\"shuffled_images/{prefix}.txt\", f\"obj/{prefix}.txt\")\n",
    "            os.rename(f\"shuffled_images/{prefix}.jpg\", f\"obj/{prefix}.jpg\")\n",
    "\n",
    "        shutil.make_archive('yolov4-tiny/obj', 'zip', '.', 'obj')\n",
    "\n",
    "    def update_config_files(self, classes):\n",
    "        with open(\"./yolov4-tiny/obj.names\", \"w\") as file:\n",
    "            file.write(\"\\n\".join(classes))\n",
    "\n",
    "        with open(\"./yolov4-tiny/yolov4-tiny-custom_template.cfg\", 'r') as file:\n",
    "            cfg_content = file.read()\n",
    "\n",
    "        updated_cfg_content = cfg_content.replace('_CLASS_NUMBER_', str(len(classes)))\n",
    "        updated_cfg_content = updated_cfg_content.replace('_NUMBER_OF_FILTERS_', str((len(classes) + 5) * 3))\n",
    "        updated_cfg_content = updated_cfg_content.replace('_MAX_BATCHES_', str(max(6000, len(classes) * 2000)))\n",
    "\n",
    "        with open(\"./yolov4-tiny/yolov4-tiny-custom.cfg\", 'w') as file:\n",
    "            file.write(updated_cfg_content)"
   ]
  },
  {
   "cell_type": "code",
   "execution_count": 6,
   "id": "c187a7be",
   "metadata": {},
   "outputs": [],
   "source": [
    "lbUtils = LabelUtils()\n",
    "lbUtils.create_shuffled_images_folder()"
   ]
  },
  {
   "cell_type": "code",
   "execution_count": 7,
   "id": "43b90a04",
   "metadata": {},
   "outputs": [],
   "source": [
    "lbUtils = LabelUtils()\n",
    "lbUtils.create_labeled_images_zip_file()"
   ]
  },
  {
   "cell_type": "code",
   "execution_count": 8,
   "id": "e1ae54d3",
   "metadata": {},
   "outputs": [],
   "source": [
    "classes = [\"cow\", \"mob\", \"house\",\"pig\",\"villager\",\"sheep\"]\n",
    "\n",
    "lbUtils = LabelUtils()\n",
    "lbUtils.update_config_files(classes)"
   ]
  }
 ],
 "metadata": {
  "kernelspec": {
   "display_name": "Python 3 (ipykernel)",
   "language": "python",
   "name": "python3"
  },
  "language_info": {
   "codemirror_mode": {
    "name": "ipython",
    "version": 3
   },
   "file_extension": ".py",
   "mimetype": "text/x-python",
   "name": "python",
   "nbconvert_exporter": "python",
   "pygments_lexer": "ipython3",
   "version": "3.10.11"
  }
 },
 "nbformat": 4,
 "nbformat_minor": 5
}
